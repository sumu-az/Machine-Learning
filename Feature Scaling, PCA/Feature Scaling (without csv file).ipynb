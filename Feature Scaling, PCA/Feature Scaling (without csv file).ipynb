{
  "nbformat": 4,
  "nbformat_minor": 0,
  "metadata": {
    "colab": {
      "provenance": []
    },
    "kernelspec": {
      "name": "python3",
      "display_name": "Python 3"
    },
    "language_info": {
      "name": "python"
    }
  },
  "cells": [
    {
      "cell_type": "code",
      "execution_count": null,
      "metadata": {
        "id": "z-Oo_lwI9eJH"
      },
      "outputs": [],
      "source": [
        "a = [1, 2, 3, 4, 5, 6, 7]\n",
        "b = [1, 2, 3, 4, 5, 6, 7]"
      ]
    },
    {
      "cell_type": "code",
      "source": [
        "for i in range(len(a)):\n",
        "  print(f'{a[i]}  {b[i]}')"
      ],
      "metadata": {
        "colab": {
          "base_uri": "https://localhost:8080/"
        },
        "id": "Q57FqjkM9ov2",
        "outputId": "f2e1841f-9c99-4619-d3f3-f8b3152d2e5f"
      },
      "execution_count": null,
      "outputs": [
        {
          "output_type": "stream",
          "name": "stdout",
          "text": [
            "1  1\n",
            "2  2\n",
            "3  3\n",
            "4  4\n",
            "5  5\n",
            "6  6\n",
            "7  7\n"
          ]
        }
      ]
    },
    {
      "cell_type": "code",
      "source": [
        "import pandas as pd\n",
        "from sklearn.preprocessing import StandardScaler, MinMaxScaler\n",
        "# import sklearn\n",
        "\n",
        "df = pd.DataFrame({'A': [1000, 765, 800], 'B': [10, 5, 7], 'C': [0.5, 0.35, 0.09]})\n",
        "\n",
        "scaler_1 = StandardScaler()\n",
        "scaler_2 = MinMaxScaler()\n",
        "\n",
        "standardized_df1 = scaler_1.fit_transform(df)\n",
        "standardized_df2 = scaler_2.fit_transform(df)\n",
        "\n",
        "print(standardized_df1)\n",
        "print(\"----------------------------\")\n",
        "print(standardized_df2)"
      ],
      "metadata": {
        "colab": {
          "base_uri": "https://localhost:8080/"
        },
        "id": "Q5Ld9RLR-Q1g",
        "outputId": "cacf3864-547c-4bd3-d794-0cf6e0be5766"
      },
      "execution_count": null,
      "outputs": [
        {
          "output_type": "stream",
          "name": "stdout",
          "text": [
            "[[ 1.40067746  1.29777137  1.10207185]\n",
            " [-0.86938601 -1.13554995  0.2164784 ]\n",
            " [-0.53129145 -0.16222142 -1.31855024]]\n",
            "----------------------------\n",
            "[[1.         1.         1.        ]\n",
            " [0.         0.         0.63414634]\n",
            " [0.14893617 0.4        0.        ]]\n"
          ]
        }
      ]
    },
    {
      "cell_type": "code",
      "source": [
        "#import sklearn\n",
        "from sklearn.preprocessing import MinMaxScaler\n",
        "\n",
        "MMS = MinMaxScaler()\n",
        "\n",
        "x_after_min_max_scaler = MMS.fit_transform(x)\n",
        "\n",
        "x_after_min_max_scaler\n",
        "\n",
        "mmv = (X - xmin)/(xmax - xmin)\n"
      ],
      "metadata": {
        "id": "skw86GpeDufq"
      },
      "execution_count": null,
      "outputs": []
    },
    {
      "cell_type": "code",
      "source": [
        "import pandas as pd\n",
        "import seaborn as sns\n",
        "data = {'A':[1,2,3,4],\n",
        "        'B':[1,2,3,4],\n",
        "        'C':[1,2,3,4]}\n",
        "daa = pd.DataFrame(data)\n",
        "print(daa)\n",
        "sns.heatmap(daa, annot=True)\n",
        "# st = \"abc\"\n",
        "# print(type(data))\n",
        "# print(type(st))\n",
        "# print(type(data[\"A\"]))"
      ],
      "metadata": {
        "colab": {
          "base_uri": "https://localhost:8080/",
          "height": 539
        },
        "id": "JqI8yMGCFvEo",
        "outputId": "a2a1491f-acb2-461c-90c0-31205f96f82b"
      },
      "execution_count": null,
      "outputs": [
        {
          "output_type": "stream",
          "name": "stdout",
          "text": [
            "   A  B  C\n",
            "0  1  1  1\n",
            "1  2  2  2\n",
            "2  3  3  3\n",
            "3  4  4  4\n"
          ]
        },
        {
          "output_type": "execute_result",
          "data": {
            "text/plain": [
              "<Axes: >"
            ]
          },
          "metadata": {},
          "execution_count": 14
        },
        {
          "output_type": "display_data",
          "data": {
            "text/plain": [
              "<Figure size 640x480 with 2 Axes>"
            ],
            "image/png": "[encoded data removed]"
          },
          "metadata": {}
        }
      ]
    }
  ]
}